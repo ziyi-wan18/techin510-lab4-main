{
 "cells": [
  {
   "cell_type": "code",
   "execution_count": 1,
   "metadata": {},
   "outputs": [],
   "source": [
    "import re"
   ]
  },
  {
   "cell_type": "markdown",
   "metadata": {},
   "source": [
    "## Basic Syntax\n",
    "\n",
    "- `.`: Matches any single character except newline\n",
    "- `^`: Matches the start of the string\n",
    "- `$`: Matches the end of the string\n",
    "- `*`: Matches 0 or more repetitions of the preceding element\n",
    "- `+`: Matches 1 or more repetitions of the preceding element\n",
    "- `?`: Matches 0 or 1 repetition of the preceding element\n",
    "- `{n}`: Matches exactly n repetitions of the preceding element\n",
    "- `{n,}`: Matches at least n repetitions of the preceding element\n",
    "- `{n,m}`: Matches between n and m repetitions of the preceding element\n",
    "- `|`: Alternation, matches either the pattern before or the pattern after the symbol\n",
    "\n",
    "## Character Classes\n",
    "\n",
    "- `[abc]`: Matches any one of the characters a, b, or c\n",
    "- `[^abc]`: Matches any character that is not a, b, or c\n",
    "- `[a-z]`: Matches any character from a to z\n",
    "- `[A-Z]`: Matches any character from A to Z\n",
    "- `[0-9]`: Matches any digit\n",
    "- `\\d`: Matches any digit (equivalent to [0-9])\n",
    "- `\\D`: Matches any non-digit\n",
    "- `\\w`: Matches any word character (equivalent to [a-zA-Z0-9_])\n",
    "- `\\W`: Matches any non-word character\n",
    "- `\\s`: Matches any whitespace character\n",
    "- `\\S`: Matches any non-whitespace character\n",
    "\n",
    "## Special Characters\n",
    "\n",
    "- `\\`: Escapes a special character\n",
    "- `()` : Defines a group\n",
    "- `(?:...)`: Non-capturing group\n",
    "- `(?=...)`: Positive lookahead assertion\n",
    "- `(?!...)`: Negative lookahead assertion\n",
    "\n",
    "## Examples\n",
    "\n",
    "- `abc`: Matches the string \"abc\"\n",
    "- `abc|def`: Matches \"abc\" or \"def\"\n",
    "- `^abc`: Matches any string that starts with \"abc\"\n",
    "- `abc$`: Matches a string that ends with \"abc\"\n",
    "- `a.b`: Matches any string containing \"a\", any character, then \"b\"\n",
    "- `a*`: Matches 0 or more 'a's\n",
    "- `a+`: Matches 1 or more 'a's\n",
    "- `a?`: Matches 0 or 1 'a'\n",
    "- `\\d{2,4}`: Matches between 2 and 4 digits"
   ]
  },
  {
   "cell_type": "code",
   "execution_count": 2,
   "metadata": {},
   "outputs": [],
   "source": [
    "s = '''\n",
    "<a href=\"https://amazon.com/categories/ski\">Ski</a>\n",
    "<a href=\"https://amazon.com/p/1234567890/awesome-product-1\">Coffee beans</a>\n",
    "<a href=\"https://amazon.com/p/6454343333/ok-product-2\">Backcountry Ski</a>\n",
    "<a href=\"https://amazon.com/p/6543565454/great-product-1\">Book</a>\n",
    "<a href=\"https://amazon.com/about-us\">About Us</a>\n",
    "'''"
   ]
  },
  {
   "cell_type": "code",
   "execution_count": 4,
   "metadata": {},
   "outputs": [
    {
     "data": {
      "text/plain": [
       "['<a href=\"https://amazon.com/p/1234567890/awesome-product-1\">']"
      ]
     },
     "execution_count": 4,
     "metadata": {},
     "output_type": "execute_result"
    }
   ],
   "source": [
    "# Extract only the product links\n",
    "# Expected output:\n",
    "# https://amazon.com/p/1234567890/awesome-product-1\n",
    "# https://amazon.com/p/6454343333/ok-product-2\n",
    "# https://amazon.com/p/6543565454/great-product-1\n",
    "\n",
    "re.findall(r'<a href=\"https://amazon.com/p/1234567890/awesome-product-1\">', s)"
   ]
  },
  {
   "cell_type": "code",
   "execution_count": 9,
   "metadata": {},
   "outputs": [
    {
     "data": {
      "text/plain": [
       "['<a href=\"https://amazon.com/p/1234567890/awesome-product-1\">',\n",
       " '<a href=\"https://amazon.com/p/6454343333/ok-product-2\">',\n",
       " '<a href=\"https://amazon.com/p/6543565454/great-product-1\">']"
      ]
     },
     "execution_count": 9,
     "metadata": {},
     "output_type": "execute_result"
    }
   ],
   "source": [
    "re.findall(r'<a href=\"https://amazon.com/p/\\d+/.+\">', s)"
   ]
  },
  {
   "cell_type": "code",
   "execution_count": 10,
   "metadata": {},
   "outputs": [
    {
     "data": {
      "text/plain": [
       "['https://amazon.com/p/1234567890/awesome-product-1',\n",
       " 'https://amazon.com/p/6454343333/ok-product-2',\n",
       " 'https://amazon.com/p/6543565454/great-product-1']"
      ]
     },
     "execution_count": 10,
     "metadata": {},
     "output_type": "execute_result"
    }
   ],
   "source": [
    "re.findall(r'<a href=\"(https://amazon.com/p/\\d+/.+)\">', s)"
   ]
  },
  {
   "cell_type": "markdown",
   "metadata": {},
   "source": [
    "# Practice Problems"
   ]
  },
  {
   "cell_type": "markdown",
   "metadata": {},
   "source": [
    "### Problem 1: Email Extraction\n",
    "\n",
    "**Problem**: Extract emails from a given string.  \n",
    "**String**: \"Contact us at support@example.com or sales@example.org\""
   ]
  },
  {
   "cell_type": "markdown",
   "metadata": {},
   "source": [
    "### Problem 2: Phone Number Validation\n",
    "\n",
    "**Problem**: Validate and extract US phone numbers in the format xxx-xxx-xxxx.  \n",
    "**String**: \"My numbers are 123-456-7890 or 333-333-3333\""
   ]
  },
  {
   "cell_type": "markdown",
   "metadata": {},
   "source": [
    "### Problem 3: Password Strength Check\n",
    "\n",
    "**Problem**: Check if a password is at least 8 characters long, contains a digit, an uppercase, and a lowercase letter.  \n",
    "**String**: \"Password1\""
   ]
  },
  {
   "cell_type": "markdown",
   "metadata": {},
   "source": [
    "### Problem 4: Extracting Domain Name\n",
    "\n",
    "**Problem**: Extract the domain name from an email address.  \n",
    "**String**: \"user@example.com\""
   ]
  },
  {
   "cell_type": "markdown",
   "metadata": {},
   "source": [
    "### Problem 5: Validating an IP Address\n",
    "\n",
    "**Problem**: Check if a string is a valid IPv4 address.  \n",
    "**String**: \"192.168.1.1\""
   ]
  }
 ],
 "metadata": {
  "kernelspec": {
   "display_name": "Python 3",
   "language": "python",
   "name": "python3"
  },
  "language_info": {
   "codemirror_mode": {
    "name": "ipython",
    "version": 3
   },
   "file_extension": ".py",
   "mimetype": "text/x-python",
   "name": "python",
   "nbconvert_exporter": "python",
   "pygments_lexer": "ipython3",
   "version": "3.11.7"
  }
 },
 "nbformat": 4,
 "nbformat_minor": 2
}
